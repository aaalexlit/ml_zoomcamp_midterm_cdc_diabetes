{
 "cells": [
  {
   "cell_type": "markdown",
   "metadata": {},
   "source": [
    "# Bonus: hyperparameter optimization using WandB Sweeps + Optuna"
   ]
  },
  {
   "cell_type": "markdown",
   "metadata": {},
   "source": [
    "### !!! Warning\n",
    "To be able to run the code below you need to have a WandB account"
   ]
  },
  {
   "cell_type": "markdown",
   "metadata": {},
   "source": [
    "## Login to WandB"
   ]
  },
  {
   "cell_type": "code",
   "execution_count": 1,
   "metadata": {},
   "outputs": [],
   "source": [
    "import wandb\n",
    "import inspect\n",
    "from wandb import CommError\n",
    "import yaml"
   ]
  },
  {
   "cell_type": "code",
   "execution_count": 2,
   "metadata": {},
   "outputs": [
    {
     "name": "stderr",
     "output_type": "stream",
     "text": [
      "Failed to detect the name of this notebook, you can set it manually with the WANDB_NOTEBOOK_NAME environment variable to enable code saving.\n",
      "\u001b[34m\u001b[1mwandb\u001b[0m: Currently logged in as: \u001b[33maaalex-lit\u001b[0m. Use \u001b[1m`wandb login --relogin`\u001b[0m to force relogin\n"
     ]
    },
    {
     "data": {
      "text/plain": [
       "True"
      ]
     },
     "execution_count": 2,
     "metadata": {},
     "output_type": "execute_result"
    }
   ],
   "source": [
    "\n",
    "wandb.login()"
   ]
  },
  {
   "cell_type": "code",
   "execution_count": 3,
   "metadata": {},
   "outputs": [],
   "source": [
    "PROJECT='diabetes-prediction'"
   ]
  },
  {
   "cell_type": "markdown",
   "metadata": {},
   "source": [
    "## Create a Lauch Queue\n"
   ]
  },
  {
   "cell_type": "code",
   "execution_count": 4,
   "metadata": {},
   "outputs": [
    {
     "name": "stderr",
     "output_type": "stream",
     "text": [
      "409 response executing GraphQL.\n",
      "{\"errors\":[{\"message\":\"project already has queue with name diabetes-prediction-queue\",\"path\":[\"createRunQueue\"]}],\"data\":{\"createRunQueue\":null}}\n",
      "\u001b[34m\u001b[1mwandb\u001b[0m: \u001b[32m\u001b[41mERROR\u001b[0m Error while calling W&B API: project already has queue with name diabetes-prediction-queue (<Response [409]>)\n"
     ]
    },
    {
     "name": "stdout",
     "output_type": "stream",
     "text": [
      "project already has queue with name diabetes-prediction-queue (Error 409: Conflict)\n"
     ]
    }
   ],
   "source": [
    "config = {\"label\": \"hyperparams-finetune-optuna\"}\n",
    "api = wandb.Api()\n",
    "try:\n",
    "    queue = api.create_run_queue(\n",
    "            name=\"diabetes-prediction-queue\",\n",
    "            type=\"local-process\",\n",
    "            access=\"project\",\n",
    "            config=config,\n",
    "        )\n",
    "except CommError as e:\n",
    "    print(e.message)"
   ]
  },
  {
   "cell_type": "markdown",
   "metadata": {},
   "source": [
    "## Create the training job"
   ]
  },
  {
   "cell_type": "code",
   "execution_count": 5,
   "metadata": {},
   "outputs": [
    {
     "name": "stdout",
     "output_type": "stream",
     "text": [
      "\u001b[34m\u001b[1mwandb\u001b[0m: Creating launch job of type: code...\n",
      "\u001b[34m\u001b[1mwandb\u001b[0m: Adding directory to artifact (./.)... Done. 0.3s\n",
      "\u001b[34m\u001b[1mwandb\u001b[0m:                                                                                \n",
      "\u001b[34m\u001b[1mwandb\u001b[0m: W&B sync reduced upload amount by 99.9%             \n",
      "\u001b[34m\u001b[1mwandb\u001b[0m: Updated job: \u001b[33maaalex-lit/diabetes-prediction/xgb-classifier-diabetes:v3\u001b[0m, with alias: \u001b[33mlatest\u001b[0m\n",
      "\u001b[34m\u001b[1mwandb\u001b[0m: View all jobs in project 'diabetes-prediction' here: \u001b[4mhttps://wandb.ai/aaalex-lit/diabetes-prediction/jobs\u001b[0m\n",
      "\u001b[34m\u001b[1mwandb\u001b[0m: \n"
     ]
    }
   ],
   "source": [
    "!wandb job create -p $PROJECT -n \"xgb-classifier-diabetes\" code ./ -E \"xgb_job.py\""
   ]
  },
  {
   "cell_type": "markdown",
   "metadata": {},
   "source": [
    "## Create a function to optimize\n"
   ]
  },
  {
   "cell_type": "code",
   "execution_count": 5,
   "metadata": {},
   "outputs": [],
   "source": [
    "def objective(trial):\n",
    "    # Define search spaces for hyperparameters\n",
    "    n_estimators = trial.suggest_int('n_estimators', 10, 300)\n",
    "    max_depth = trial.suggest_int('max_depth', 1, 20)\n",
    "    min_child_weight = trial.suggest_float('min_child_weight', 0, 1)\n",
    "    learning_rate = trial.suggest_float('learning_rate', 1e-5, 1, log=True)\n",
    "\n",
    "    print(f\"{n_estimators=} {max_depth=} {min_child_weight=} {learning_rate=}\")\n",
    "\n",
    "    # !! don't actually train, return -1\n",
    "    return -1    "
   ]
  },
  {
   "cell_type": "markdown",
   "metadata": {},
   "source": [
    "### Test the conditional configuration function."
   ]
  },
  {
   "cell_type": "code",
   "execution_count": 6,
   "metadata": {},
   "outputs": [
    {
     "name": "stderr",
     "output_type": "stream",
     "text": [
      "[I 2023-11-09 07:58:25,311] A new study created in memory with name: no-name-a2dc2b64-42d2-471e-ac1e-a1c6e7b12979\n",
      "[I 2023-11-09 07:58:25,316] Trial 0 finished with value: -1.0 and parameters: {'n_estimators': 152, 'max_depth': 8, 'min_child_weight': 0.830067751170727, 'learning_rate': 0.031024817713560474}. Best is trial 0 with value: -1.0.\n",
      "[I 2023-11-09 07:58:25,317] Trial 1 finished with value: -1.0 and parameters: {'n_estimators': 215, 'max_depth': 6, 'min_child_weight': 0.7215802763618397, 'learning_rate': 4.59420654424295e-05}. Best is trial 0 with value: -1.0.\n"
     ]
    },
    {
     "name": "stdout",
     "output_type": "stream",
     "text": [
      "n_estimators=152 max_depth=8 min_child_weight=0.830067751170727 learning_rate=0.031024817713560474\n",
      "n_estimators=215 max_depth=6 min_child_weight=0.7215802763618397 learning_rate=4.59420654424295e-05\n"
     ]
    }
   ],
   "source": [
    "import optuna \n",
    "# Create an Optuna study\n",
    "study = optuna.create_study(direction=\"maximize\")\n",
    "\n",
    "# Start the optimization process\n",
    "study.optimize(objective, n_trials=2)\n"
   ]
  },
  {
   "cell_type": "markdown",
   "metadata": {},
   "source": [
    "## Save the configuration to W&B as an artifact.\n",
    "\n",
    "Save the conditional search logic to W&B as an artifact."
   ]
  },
  {
   "cell_type": "code",
   "execution_count": 7,
   "metadata": {},
   "outputs": [
    {
     "data": {
      "text/html": [
       "Tracking run with wandb version 0.16.0"
      ],
      "text/plain": [
       "<IPython.core.display.HTML object>"
      ]
     },
     "metadata": {},
     "output_type": "display_data"
    },
    {
     "data": {
      "text/html": [
       "Run data is saved locally in <code>/Users/alexlitvinov/Documents/projects/ml_zoomcamp_midterm_cdc_diabetes/optuna-wandb-sweeps-hyperparameter-tuning/wandb/run-20231109_075848-vg66ukhw</code>"
      ],
      "text/plain": [
       "<IPython.core.display.HTML object>"
      ]
     },
     "metadata": {},
     "output_type": "display_data"
    },
    {
     "data": {
      "text/html": [
       "Syncing run <strong><a href='https://wandb.ai/aaalex-lit/diabetes-prediction/runs/vg66ukhw' target=\"_blank\">morning-resonance-24</a></strong> to <a href='https://wandb.ai/aaalex-lit/diabetes-prediction' target=\"_blank\">Weights & Biases</a> (<a href='https://wandb.me/run' target=\"_blank\">docs</a>)<br/>"
      ],
      "text/plain": [
       "<IPython.core.display.HTML object>"
      ]
     },
     "metadata": {},
     "output_type": "display_data"
    },
    {
     "data": {
      "text/html": [
       " View project at <a href='https://wandb.ai/aaalex-lit/diabetes-prediction' target=\"_blank\">https://wandb.ai/aaalex-lit/diabetes-prediction</a>"
      ],
      "text/plain": [
       "<IPython.core.display.HTML object>"
      ]
     },
     "metadata": {},
     "output_type": "display_data"
    },
    {
     "data": {
      "text/html": [
       " View run at <a href='https://wandb.ai/aaalex-lit/diabetes-prediction/runs/vg66ukhw' target=\"_blank\">https://wandb.ai/aaalex-lit/diabetes-prediction/runs/vg66ukhw</a>"
      ],
      "text/plain": [
       "<IPython.core.display.HTML object>"
      ]
     },
     "metadata": {},
     "output_type": "display_data"
    },
    {
     "name": "stderr",
     "output_type": "stream",
     "text": [
      "wandb: WARNING Source type is set to 'repo' but some required information is missing from the environment. A job will not be created from this run. See https://docs.wandb.ai/guides/launch/create-job\n"
     ]
    },
    {
     "data": {
      "application/vnd.jupyter.widget-view+json": {
       "model_id": "ab10e2b9884441a4889483e36eed0da9",
       "version_major": 2,
       "version_minor": 0
      },
      "text/plain": [
       "VBox(children=(Label(value='0.001 MB of 0.010 MB uploaded\\r'), FloatProgress(value=0.10500500500500501, max=1.…"
      ]
     },
     "metadata": {},
     "output_type": "display_data"
    },
    {
     "data": {
      "text/html": [
       " View run <strong style=\"color:#cdcd00\">morning-resonance-24</strong> at: <a href='https://wandb.ai/aaalex-lit/diabetes-prediction/runs/vg66ukhw' target=\"_blank\">https://wandb.ai/aaalex-lit/diabetes-prediction/runs/vg66ukhw</a><br/>Synced 5 W&B file(s), 0 media file(s), 0 artifact file(s) and 0 other file(s)"
      ],
      "text/plain": [
       "<IPython.core.display.HTML object>"
      ]
     },
     "metadata": {},
     "output_type": "display_data"
    },
    {
     "data": {
      "text/html": [
       "Find logs at: <code>./wandb/run-20231109_075848-vg66ukhw/logs</code>"
      ],
      "text/plain": [
       "<IPython.core.display.HTML object>"
      ]
     },
     "metadata": {},
     "output_type": "display_data"
    }
   ],
   "source": [
    "ARTIFACT_FILENAME = \"optuna_diabetes_prediction.py\"\n",
    "ARTIFACT_NAME = \"optuna-config-diabetes-prediction\"\n",
    "\n",
    "\"\"\"write function to its own file\"\"\"\n",
    "function_lines = inspect.getsource(objective)\n",
    "with open(ARTIFACT_FILENAME, 'w') as f:\n",
    "    f.write(function_lines)\n",
    "\n",
    "\"\"\"create and log artifact to wandb\"\"\"\n",
    "run = wandb.init(project=PROJECT)\n",
    "artifact = run.log_artifact(ARTIFACT_FILENAME, name=ARTIFACT_NAME, type='optuna')\n",
    "run.finish()"
   ]
  },
  {
   "cell_type": "markdown",
   "metadata": {},
   "source": [
    "## Define a sweep configuration"
   ]
  },
  {
   "cell_type": "code",
   "execution_count": 9,
   "metadata": {},
   "outputs": [],
   "source": [
    "config = {\n",
    "    \"metric\": {\"name\": \"custom_recall_score\", \"goal\": \"maximize\"},\n",
    "    \"run_cap\": 10,\n",
    "    \"job\": \"aaalex-lit/diabetes-prediction/xgb-classifier-diabetes:latest\",\n",
    "    \"scheduler\": {\n",
    "        \"job\": \"wandb/sweep-jobs/job-optuna-sweep-scheduler:latest\",\n",
    "        \"num_workers\": 2,\n",
    "        \"settings\": {\n",
    "            \"optuna_source\": f\"{PROJECT}/{artifact.wait().name}\",\n",
    "            \"optuna_source_filename\": ARTIFACT_FILENAME,\n",
    "        }\n",
    "    },\n",
    "}\n",
    "\n",
    "# write config to file\n",
    "config_filename = \"sweep-config.yaml\"\n",
    "yaml.dump(config, open(config_filename, \"w\"))"
   ]
  },
  {
   "cell_type": "markdown",
   "metadata": {},
   "source": [
    "## Launch the agent"
   ]
  },
  {
   "cell_type": "code",
   "execution_count": 10,
   "metadata": {},
   "outputs": [],
   "source": [
    "import subprocess\n",
    "process = subprocess.Popen([\"wandb\", \"launch-agent\", \"-q\", \"diabetes-prediction-queue\"])"
   ]
  },
  {
   "cell_type": "markdown",
   "metadata": {},
   "source": [
    "## Launch the sweep"
   ]
  },
  {
   "cell_type": "code",
   "execution_count": 11,
   "metadata": {},
   "outputs": [
    {
     "name": "stdout",
     "output_type": "stream",
     "text": [
      "\u001b[34m\u001b[1mwandb\u001b[0m: \u001b[33mWARNING\u001b[0m Using a scheduler job for launch sweeps is *experimental* and may change without warning\n"
     ]
    },
    {
     "name": "stderr",
     "output_type": "stream",
     "text": [
      "wandb: Starting launch agent ✨\n"
     ]
    },
    {
     "name": "stdout",
     "output_type": "stream",
     "text": [
      "\u001b[34m\u001b[1mwandb\u001b[0m:   2 of 2 files downloaded.  \n"
     ]
    },
    {
     "name": "stderr",
     "output_type": "stream",
     "text": [
      "wandb: launch: agent knzt4mzz polling on queues diabetes-prediction-queue, running 0 out of a maximum of 1 jobs\n",
      "wandb: WARNING No program path found, not creating job artifact. See https://docs.wandb.ai/guides/launch/create-job\n"
     ]
    },
    {
     "name": "stdout",
     "output_type": "stream",
     "text": [
      "\u001b[34m\u001b[1mwandb\u001b[0m:                                                                                \n",
      "Problem at: /Users/alexlitvinov/anaconda3/envs/ml-zoomcamp-midterm-alex/lib/python3.10/site-packages/wandb/sdk/artifacts/artifact.py 1690 download\n",
      "\u001b[34m\u001b[1mwandb\u001b[0m: \u001b[32m\u001b[41mERROR\u001b[0m Failed to load job. It appears that you do not have permission to access the requested resource. Please reach out to the project owner to grant you access. If you have the correct permissions, verify that there are no issues with your networking setup.(Error 404: Not Found)\n"
     ]
    },
    {
     "name": "stderr",
     "output_type": "stream",
     "text": [
      "wandb: ERROR Error while calling W&B API: project not found (<Response [404]>)\n"
     ]
    }
   ],
   "source": [
    "! wandb launch-sweep sweep-config.yaml -e aaalex-lit -p $PROJECT -q diabetes-prediction-queue"
   ]
  },
  {
   "cell_type": "markdown",
   "metadata": {},
   "source": [
    "## Stop the agent"
   ]
  },
  {
   "cell_type": "code",
   "execution_count": 12,
   "metadata": {},
   "outputs": [
    {
     "name": "stderr",
     "output_type": "stream",
     "text": [
      "/Users/alexlitvinov/anaconda3/envs/ml-zoomcamp-midterm-alex/lib/python3.10/multiprocessing/resource_tracker.py:224: UserWarning: resource_tracker: There appear to be 5 leaked semaphore objects to clean up at shutdown\n",
      "  warnings.warn('resource_tracker: There appear to be %d '\n"
     ]
    }
   ],
   "source": [
    "process.kill()"
   ]
  },
  {
   "cell_type": "code",
   "execution_count": null,
   "metadata": {},
   "outputs": [],
   "source": []
  }
 ],
 "metadata": {
  "kernelspec": {
   "display_name": "ml-zoomcamp-midterm-alex",
   "language": "python",
   "name": "python3"
  },
  "language_info": {
   "codemirror_mode": {
    "name": "ipython",
    "version": 3
   },
   "file_extension": ".py",
   "mimetype": "text/x-python",
   "name": "python",
   "nbconvert_exporter": "python",
   "pygments_lexer": "ipython3",
   "version": "3.10.13"
  }
 },
 "nbformat": 4,
 "nbformat_minor": 2
}
